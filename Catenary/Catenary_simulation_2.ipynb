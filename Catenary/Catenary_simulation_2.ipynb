{
 "cells": [
  {
   "cell_type": "code",
   "execution_count": 1,
   "id": "2def2421-39b3-4f92-b747-7bc499e6f594",
   "metadata": {},
   "outputs": [
    {
     "data": {
      "application/vnd.jupyter.widget-view+json": {
       "model_id": "195cd75ec1864cabaebde75c6b792fbe",
       "version_major": 2,
       "version_minor": 0
      },
      "text/plain": [
       "interactive(children=(FloatSlider(value=5.0, description='Parameter a', max=15.0, min=0.5), IntSlider(value=8,…"
      ]
     },
     "metadata": {},
     "output_type": "display_data"
    },
    {
     "data": {
      "text/plain": [
       "<function __main__.plot_equal_arc_segments(a=3.0, n_segments=16, span=20.0)>"
      ]
     },
     "execution_count": 1,
     "metadata": {},
     "output_type": "execute_result"
    }
   ],
   "source": [
    "import numpy as np\n",
    "import matplotlib.pyplot as plt\n",
    "from scipy.optimize import bisect\n",
    "from ipywidgets import interact, FloatSlider, IntSlider\n",
    "\n",
    "def catenary(x, a):\n",
    "    \"\"\"Returns the y-coordinate of a standard catenary at position x with parameter a.\"\"\"\n",
    "    return a * np.cosh(x / a)\n",
    "\n",
    "def arc_length(a, x0, x1):\n",
    "    \"\"\"\n",
    "    Calculates the arc length between x0 and x1 of a catenary with parameter a.\n",
    "    Uses the analytical formula for the arc length of a catenary.\n",
    "    \"\"\"\n",
    "    return a * (np.sinh(x1 / a) - np.sinh(x0 / a))\n",
    "\n",
    "def find_x_for_arc_length(a, x_start, target_length):\n",
    "    \"\"\"\n",
    "    Finds the value of x such that the arc length from x_start to x equals target_length.\n",
    "    Uses the bisection method to numerically solve the equation.\n",
    "    \"\"\"\n",
    "    func = lambda x: arc_length(a, x_start, x) - target_length\n",
    "    x_upper = x_start + target_length * 2  # Reasonable upper bound\n",
    "    return bisect(func, x_start, x_upper)\n",
    "\n",
    "def plot_equal_arc_segments(a=3.0, n_segments=16, span=20.0):\n",
    "    \"\"\"\n",
    "    Plots an inverted catenary divided into equal arc-length segments.\n",
    "    \n",
    "    Parameters:\n",
    "    - a: catenary parameter.\n",
    "    - n_segments: number of segments to divide the curve into.\n",
    "    - span: total horizontal width of the catenary.\n",
    "    \"\"\"\n",
    "    # Define the horizontal domain of the catenary\n",
    "    x_min = -span / 2\n",
    "    x_max = span / 2\n",
    "\n",
    "    # Compute total arc length of the catenary\n",
    "    total_length = arc_length(a, x_min, x_max)\n",
    "    \n",
    "    # Calculate the target length for each segment\n",
    "    segment_length = total_length / n_segments\n",
    "\n",
    "    # Compute x-coordinates dividing the arc into equal-length segments\n",
    "    x_points = [x_min]\n",
    "    for i in range(1, n_segments):\n",
    "        # Find the next x such that the arc from the last x equals segment_length\n",
    "        x_next = find_x_for_arc_length(a, x_points[-1], segment_length)\n",
    "        x_points.append(x_next)\n",
    "    x_points.append(x_max)  # Ensure the last point aligns with x_max\n",
    "\n",
    "    x_points = np.array(x_points)\n",
    "    y_points = -catenary(x_points, a)  # Inverted catenary\n",
    "\n",
    "    # Generate smooth curve for the full catenary\n",
    "    x_curve = np.linspace(x_min, x_max, 1000)\n",
    "    y_curve = -catenary(x_curve, a)\n",
    "\n",
    "    # Plot the catenary and its segments\n",
    "    plt.figure(figsize=(12, 6))\n",
    "    plt.plot(x_curve, y_curve, label='Inverted Catenary', color='orange', lw=2)\n",
    "\n",
    "    segment_lengths = []\n",
    "    for i in range(n_segments):\n",
    "        x1, y1 = x_points[i], y_points[i]\n",
    "        x2, y2 = x_points[i + 1], y_points[i + 1]\n",
    "        \n",
    "        # Compute and plot each segment with its length\n",
    "        length = np.hypot(x2 - x1, y2 - y1)\n",
    "        segment_lengths.append(length)\n",
    "        plt.plot([x1, x2], [y1, y2], color='saddlebrown', lw=3)\n",
    "        plt.text((x1 + x2) / 2, (y1 + y2) / 2, f'{length:.2f} m', fontsize=8, ha='center', color='blue')\n",
    "\n",
    "    # Mark connection points between segments\n",
    "    plt.plot(x_points, y_points, 'o', color='navy', label='Connection Points')\n",
    "    plt.title(f'Segmented Inverted Catenary | a = {a}, Segments = {n_segments}')\n",
    "    plt.xlabel('x (m)')\n",
    "    plt.ylabel('y (m)')\n",
    "    plt.axis('equal')\n",
    "    plt.grid(True)\n",
    "    plt.legend()\n",
    "\n",
    "    # Display total length and standard deviation\n",
    "    total_segment_length = sum(segment_lengths)\n",
    "    std_dev = np.std(segment_lengths)\n",
    "    plt.figtext(0.15, 0.88, f'Total Length: {total_segment_length:.2f} m', fontsize=11, color='green')\n",
    "    plt.figtext(0.15, 0.83, f'Segment Length Std Dev: {std_dev:.4f} m', fontsize=10, color='red')\n",
    "    plt.show()\n",
    "\n",
    "    # Plot bar chart of individual segment lengths\n",
    "    plt.figure(figsize=(10, 3))\n",
    "    plt.bar(range(1, n_segments + 1), segment_lengths, color='skyblue')\n",
    "    plt.title('Segment Lengths')\n",
    "    plt.xlabel('Segment Index')\n",
    "    plt.ylabel('Length (m)')\n",
    "    plt.grid(True, axis='y', linestyle='--', alpha=0.5)\n",
    "    plt.show()\n",
    "\n",
    "# Interactive controls for parameter adjustment in a Jupyter Notebook\n",
    "interact(\n",
    "    plot_equal_arc_segments,\n",
    "    a=FloatSlider(min=0.5, max=15.0, step=0.1, value=5.0, description='Parameter a'),\n",
    "    n_segments=IntSlider(min=2, max=32, step=1, value=8, description='Segments'),\n",
    "    span=FloatSlider(min=5.0, max=40.0, step=1.0, value=20.0, description='Width (m)')\n",
    ")\n"
   ]
  }
 ],
 "metadata": {
  "kernelspec": {
   "display_name": "Python 3 (ipykernel)",
   "language": "python",
   "name": "python3"
  },
  "language_info": {
   "codemirror_mode": {
    "name": "ipython",
    "version": 3
   },
   "file_extension": ".py",
   "mimetype": "text/x-python",
   "name": "python",
   "nbconvert_exporter": "python",
   "pygments_lexer": "ipython3",
   "version": "3.10.12"
  }
 },
 "nbformat": 4,
 "nbformat_minor": 5
}
